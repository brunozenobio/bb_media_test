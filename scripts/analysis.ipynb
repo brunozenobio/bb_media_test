{
 "cells": [
  {
   "cell_type": "code",
   "execution_count": null,
   "metadata": {},
   "outputs": [],
   "source": [
    "import json\n",
    "import pandas as pd\n",
    "\n",
    "with open(\"./database/series.json\",\"r\") as series:\n",
    "    datos = json.load(series)\n",
    "\n",
    "datos[5:10]\n",
    "\n",
    "df_movies = pd.read_csv(\"./database/movies.csv\")\n",
    "df_channels = pd.read_csv(\"./database/channels.csv\")"
   ]
  },
  {
   "cell_type": "code",
   "execution_count": null,
   "metadata": {},
   "outputs": [],
   "source": []
  }
 ],
 "metadata": {
  "language_info": {
   "name": "python"
  }
 },
 "nbformat": 4,
 "nbformat_minor": 2
}
